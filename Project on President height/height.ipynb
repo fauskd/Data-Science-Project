{
 "cells": [
  {
   "cell_type": "code",
   "execution_count": 25,
   "id": "dcd8f9a0",
   "metadata": {},
   "outputs": [],
   "source": [
    "import pandas as pd \n",
    "import numpy as np\n",
    "import matplotlib.pyplot as plt\n",
    "import seaborn as sns"
   ]
  },
  {
   "cell_type": "code",
   "execution_count": 12,
   "id": "8e157840",
   "metadata": {},
   "outputs": [],
   "source": [
    "data = pd.read_csv('president_heights.csv')"
   ]
  },
  {
   "cell_type": "code",
   "execution_count": 13,
   "id": "6c301f91",
   "metadata": {},
   "outputs": [
    {
     "data": {
      "text/html": [
       "<div>\n",
       "<style scoped>\n",
       "    .dataframe tbody tr th:only-of-type {\n",
       "        vertical-align: middle;\n",
       "    }\n",
       "\n",
       "    .dataframe tbody tr th {\n",
       "        vertical-align: top;\n",
       "    }\n",
       "\n",
       "    .dataframe thead th {\n",
       "        text-align: right;\n",
       "    }\n",
       "</style>\n",
       "<table border=\"1\" class=\"dataframe\">\n",
       "  <thead>\n",
       "    <tr style=\"text-align: right;\">\n",
       "      <th></th>\n",
       "      <th>order</th>\n",
       "      <th>name</th>\n",
       "      <th>height(cm)</th>\n",
       "    </tr>\n",
       "  </thead>\n",
       "  <tbody>\n",
       "    <tr>\n",
       "      <th>0</th>\n",
       "      <td>1</td>\n",
       "      <td>George Washington</td>\n",
       "      <td>189</td>\n",
       "    </tr>\n",
       "    <tr>\n",
       "      <th>1</th>\n",
       "      <td>2</td>\n",
       "      <td>John Adams</td>\n",
       "      <td>170</td>\n",
       "    </tr>\n",
       "    <tr>\n",
       "      <th>2</th>\n",
       "      <td>3</td>\n",
       "      <td>Thomas Jefferson</td>\n",
       "      <td>189</td>\n",
       "    </tr>\n",
       "    <tr>\n",
       "      <th>3</th>\n",
       "      <td>4</td>\n",
       "      <td>James Madison</td>\n",
       "      <td>163</td>\n",
       "    </tr>\n",
       "    <tr>\n",
       "      <th>4</th>\n",
       "      <td>5</td>\n",
       "      <td>James Monroe</td>\n",
       "      <td>183</td>\n",
       "    </tr>\n",
       "    <tr>\n",
       "      <th>5</th>\n",
       "      <td>6</td>\n",
       "      <td>John Quincy Adams</td>\n",
       "      <td>171</td>\n",
       "    </tr>\n",
       "    <tr>\n",
       "      <th>6</th>\n",
       "      <td>7</td>\n",
       "      <td>Andrew Jackson</td>\n",
       "      <td>185</td>\n",
       "    </tr>\n",
       "    <tr>\n",
       "      <th>7</th>\n",
       "      <td>8</td>\n",
       "      <td>Martin Van Buren</td>\n",
       "      <td>168</td>\n",
       "    </tr>\n",
       "    <tr>\n",
       "      <th>8</th>\n",
       "      <td>9</td>\n",
       "      <td>William Henry Harrison</td>\n",
       "      <td>173</td>\n",
       "    </tr>\n",
       "    <tr>\n",
       "      <th>9</th>\n",
       "      <td>10</td>\n",
       "      <td>John Tyler</td>\n",
       "      <td>183</td>\n",
       "    </tr>\n",
       "  </tbody>\n",
       "</table>\n",
       "</div>"
      ],
      "text/plain": [
       "   order                    name  height(cm)\n",
       "0      1       George Washington         189\n",
       "1      2              John Adams         170\n",
       "2      3        Thomas Jefferson         189\n",
       "3      4           James Madison         163\n",
       "4      5            James Monroe         183\n",
       "5      6       John Quincy Adams         171\n",
       "6      7          Andrew Jackson         185\n",
       "7      8        Martin Van Buren         168\n",
       "8      9  William Henry Harrison         173\n",
       "9     10              John Tyler         183"
      ]
     },
     "execution_count": 13,
     "metadata": {},
     "output_type": "execute_result"
    }
   ],
   "source": [
    "data.head(10)"
   ]
  },
  {
   "cell_type": "code",
   "execution_count": 14,
   "id": "462b3bcc",
   "metadata": {},
   "outputs": [
    {
     "data": {
      "text/plain": [
       "0     189\n",
       "1     170\n",
       "2     189\n",
       "3     163\n",
       "4     183\n",
       "5     171\n",
       "6     185\n",
       "7     168\n",
       "8     173\n",
       "9     183\n",
       "10    173\n",
       "11    173\n",
       "12    175\n",
       "13    178\n",
       "14    183\n",
       "15    193\n",
       "16    178\n",
       "17    173\n",
       "18    174\n",
       "19    183\n",
       "20    183\n",
       "21    168\n",
       "22    170\n",
       "23    178\n",
       "24    182\n",
       "25    180\n",
       "26    183\n",
       "27    178\n",
       "28    182\n",
       "29    188\n",
       "30    175\n",
       "31    179\n",
       "32    183\n",
       "33    193\n",
       "34    182\n",
       "35    183\n",
       "36    177\n",
       "37    185\n",
       "38    188\n",
       "39    188\n",
       "40    182\n",
       "41    185\n",
       "Name: height(cm), dtype: int64"
      ]
     },
     "execution_count": 14,
     "metadata": {},
     "output_type": "execute_result"
    }
   ],
   "source": [
    "data['height(cm)']"
   ]
  },
  {
   "cell_type": "code",
   "execution_count": 15,
   "id": "c15cd8c5",
   "metadata": {},
   "outputs": [
    {
     "data": {
      "text/plain": [
       "(42, 3)"
      ]
     },
     "execution_count": 15,
     "metadata": {},
     "output_type": "execute_result"
    }
   ],
   "source": [
    "data.shape"
   ]
  },
  {
   "cell_type": "code",
   "execution_count": 16,
   "id": "da14f8a8",
   "metadata": {},
   "outputs": [
    {
     "name": "stdout",
     "output_type": "stream",
     "text": [
      "179.73809523809524\n",
      "193\n",
      "163\n",
      "7.015868855358296\n"
     ]
    }
   ],
   "source": [
    "print(data['height(cm)'].mean())\n",
    "print(data['height(cm)'].max())\n",
    "print(data['height(cm)'].min())\n",
    "print(data['height(cm)'].std())"
   ]
  },
  {
   "cell_type": "code",
   "execution_count": 17,
   "id": "2383335f",
   "metadata": {},
   "outputs": [
    {
     "data": {
      "text/plain": [
       "182.0"
      ]
     },
     "execution_count": 17,
     "metadata": {},
     "output_type": "execute_result"
    }
   ],
   "source": [
    "data['height(cm)'].median()"
   ]
  },
  {
   "cell_type": "code",
   "execution_count": 27,
   "id": "6279bf2a",
   "metadata": {},
   "outputs": [
    {
     "data": {
      "image/png": "[encoded data removed]",
      "text/plain": [
       "<Figure size 640x480 with 1 Axes>"
      ]
     },
     "metadata": {},
     "output_type": "display_data"
    }
   ],
   "source": [
    "sns.set()\n",
    "\n",
    "plt.hist(data['height(cm)'])\n",
    "\n",
    "plt.title('height distribution')\n",
    "plt.xlabel('height in cm')\n",
    "plt.ylabel('people')\n",
    "plt.tight_layout()\n",
    "plt.show()"
   ]
  },
  {
   "cell_type": "code",
   "execution_count": null,
   "id": "c7b7c062",
   "metadata": {},
   "outputs": [],
   "source": []
  }
 ],
 "metadata": {
  "kernelspec": {
   "display_name": "Python 3 (ipykernel)",
   "language": "python",
   "name": "python3"
  },
  "language_info": {
   "codemirror_mode": {
    "name": "ipython",
    "version": 3
   },
   "file_extension": ".py",
   "mimetype": "text/x-python",
   "name": "python",
   "nbconvert_exporter": "python",
   "pygments_lexer": "ipython3",
   "version": "3.10.9"
  }
 },
 "nbformat": 4,
 "nbformat_minor": 5
}
